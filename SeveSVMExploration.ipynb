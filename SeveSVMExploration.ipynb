{
 "cells": [
  {
   "cell_type": "code",
   "execution_count": 1,
   "metadata": {
    "collapsed": false
   },
   "outputs": [],
   "source": [
    "import data_matrix as dm\n",
    "import numpy as np"
   ]
  },
  {
   "cell_type": "code",
   "execution_count": 2,
   "metadata": {
    "collapsed": false
   },
   "outputs": [],
   "source": [
    "from sklearn.externals import joblib\n",
    "from sklearn.svm import SVR"
   ]
  },
  {
   "cell_type": "code",
   "execution_count": 3,
   "metadata": {
    "collapsed": true
   },
   "outputs": [],
   "source": [
    "def get_model(X,y):\n",
    "    clf = SVR()\n",
    "    clf.fit(X, y)\n",
    "    return clf"
   ]
  },
  {
   "cell_type": "markdown",
   "metadata": {},
   "source": [
    "# Simple Example"
   ]
  },
  {
   "cell_type": "code",
   "execution_count": 4,
   "metadata": {
    "collapsed": true
   },
   "outputs": [],
   "source": [
    "women_wf = b\"SL.TLF.TOTL.FE.ZS\""
   ]
  },
  {
   "cell_type": "code",
   "execution_count": 40,
   "metadata": {
    "collapsed": false
   },
   "outputs": [],
   "source": [
    "X,y = dm.get_training_matrix(p_sc=women_wf,cc=b\"USA\")\n",
    "svm = get_model(X[:-1],y[:-1])"
   ]
  },
  {
   "cell_type": "code",
   "execution_count": 41,
   "metadata": {
    "collapsed": false
   },
   "outputs": [
    {
     "data": {
      "text/plain": [
       "array([-0.01714092])"
      ]
     },
     "execution_count": 41,
     "metadata": {},
     "output_type": "execute_result"
    }
   ],
   "source": [
    "predicted_slope = svm.predict([X[-1]])\n",
    "predicted_slope"
   ]
  },
  {
   "cell_type": "code",
   "execution_count": 7,
   "metadata": {
    "collapsed": false
   },
   "outputs": [],
   "source": [
    "# Take the 2013 value and add the predicted slope\n",
    "prediction = dm.get_feature_value(women_wf, b\"USA\", 2013) + predicted_slope[0]\n",
    "actual = dm.get_feature_value(women_wf, b\"USA\", 2014)\n",
    "previous_years = [dm.get_feature_value(women_wf, b\"USA\", y) for y in range(2005,2015)]"
   ]
  },
  {
   "cell_type": "code",
   "execution_count": 8,
   "metadata": {
    "collapsed": false
   },
   "outputs": [
    {
     "name": "stdout",
     "output_type": "stream",
     "text": [
      "For the year 2014, i predict 45.77551883459091, but the actual value is 45.83927536010742\n",
      "Historically, the values have been [45.764839, 45.756645, 45.805981, 45.950191, 46.125431, 46.205242, 46.057381, 45.936733, 45.79266, 45.839275]\n"
     ]
    }
   ],
   "source": [
    "print(\"For the year 2014, i predict {}, but the actual value is {}\".format(prediction, actual))\n",
    "print(\"Historically, the values have been {}\".format(previous_years))"
   ]
  },
  {
   "cell_type": "markdown",
   "metadata": {},
   "source": [
    "# Testing a spike"
   ]
  },
  {
   "cell_type": "code",
   "execution_count": 9,
   "metadata": {
    "collapsed": true
   },
   "outputs": [],
   "source": [
    "X,y = dm.get_training_matrix(p_sc=women_wf,cc=b\"USA\")\n",
    "svm = get_model(X,y)"
   ]
  },
  {
   "cell_type": "code",
   "execution_count": 10,
   "metadata": {
    "collapsed": false
   },
   "outputs": [],
   "source": [
    "data_2015, key_2015 = dm.get_xrow(women_wf, b\"USA\", 2015)"
   ]
  },
  {
   "cell_type": "code",
   "execution_count": 25,
   "metadata": {
    "collapsed": true
   },
   "outputs": [],
   "source": [
    "# Add the spike\n",
    "spike_sc = b\"SL.TLF.TOTL.IN\"\n",
    "spike_cc = b\"USA\"\n",
    "spike_yr = 2015\n",
    "spike_amt = 2000000000000000"
   ]
  },
  {
   "cell_type": "code",
   "execution_count": 26,
   "metadata": {
    "collapsed": false
   },
   "outputs": [
    {
     "name": "stdout",
     "output_type": "stream",
     "text": [
      "These are the SC slopes we'll add the spike to\n",
      "[[b'SL.TLF.TOTL.IN' b'USA' b'2014' b'2013']\n",
      " [b'SL.TLF.TOTL.IN' b'USA' b'2014' b'2012']\n",
      " [b'SL.TLF.TOTL.IN' b'USA' b'2014' b'2011']]\n",
      "These are the current slopes\n",
      "[ 1197696.  1719312.  3068448.]\n"
     ]
    }
   ],
   "source": [
    "print(\"These are the SC slopes we'll add the spike to\")\n",
    "print(key_2015[(key_2015[:,0] == spike_sc) & (key_2015[:,1] == spike_cc)])\n",
    "print(\"These are the current slopes\")\n",
    "print(data_2015[(key_2015[:,0] == spike_sc) & (key_2015[:,1] == spike_cc)])"
   ]
  },
  {
   "cell_type": "code",
   "execution_count": 27,
   "metadata": {
    "collapsed": false
   },
   "outputs": [
    {
     "name": "stdout",
     "output_type": "stream",
     "text": [
      "1.61049e+08 2.0000000012e+15 2.00000016105e+15 1.59851e+08\n",
      "1.61049e+08 2.00000000172e+15 2.00000016105e+15 1.5933e+08\n",
      "1.61049e+08 2.00000000307e+15 2.00000016105e+15 1.5798e+08\n",
      "These are the new slopes\n",
      "[  2.00000000e+15   2.00000000e+15   2.00000000e+15]\n"
     ]
    }
   ],
   "source": [
    "spike_X,key_2015 = dm.get_xrow_with_spike(p_sc=women_wf, p_cc=b\"USA\", year=spike_yr, spike_sc=spike_sc, spike_cc=spike_cc, spike_amt=spike_amt)\n",
    "\n",
    "print(\"These are the new slopes\")\n",
    "print(spike_X[(key_2015[:,0] == spike_sc) & (key_2015[:,1] == spike_cc)])"
   ]
  },
  {
   "cell_type": "markdown",
   "metadata": {},
   "source": [
    "# wtf"
   ]
  },
  {
   "cell_type": "code",
   "execution_count": 44,
   "metadata": {
    "collapsed": false
   },
   "outputs": [
    {
     "name": "stdout",
     "output_type": "stream",
     "text": [
      "[-0.01714092] [-0.01714092]\n"
     ]
    },
    {
     "name": "stderr",
     "output_type": "stream",
     "text": [
      "/usr/lib/python3.5/site-packages/sklearn/utils/validation.py:386: DeprecationWarning: Passing 1d arrays as data is deprecated in 0.17 and willraise ValueError in 0.19. Reshape your data either using X.reshape(-1, 1) if your data has a single feature or X.reshape(1, -1) if it contains a single sample.\n",
      "  DeprecationWarning)\n",
      "/usr/lib/python3.5/site-packages/sklearn/utils/validation.py:386: DeprecationWarning: Passing 1d arrays as data is deprecated in 0.17 and willraise ValueError in 0.19. Reshape your data either using X.reshape(-1, 1) if your data has a single feature or X.reshape(1, -1) if it contains a single sample.\n",
      "  DeprecationWarning)\n"
     ]
    }
   ],
   "source": [
    "print(svm.predict(np.ones(data_2015.shape)), svm.predict(data_2015))"
   ]
  },
  {
   "cell_type": "code",
   "execution_count": 30,
   "metadata": {
    "collapsed": false
   },
   "outputs": [
    {
     "name": "stdout",
     "output_type": "stream",
     "text": [
      "Predicted slope w/o spike [-0.01714092], with spike [-0.01714092]\n"
     ]
    },
    {
     "name": "stderr",
     "output_type": "stream",
     "text": [
      "/usr/lib/python3.5/site-packages/sklearn/utils/validation.py:386: DeprecationWarning: Passing 1d arrays as data is deprecated in 0.17 and willraise ValueError in 0.19. Reshape your data either using X.reshape(-1, 1) if your data has a single feature or X.reshape(1, -1) if it contains a single sample.\n",
      "  DeprecationWarning)\n",
      "/usr/lib/python3.5/site-packages/sklearn/utils/validation.py:386: DeprecationWarning: Passing 1d arrays as data is deprecated in 0.17 and willraise ValueError in 0.19. Reshape your data either using X.reshape(-1, 1) if your data has a single feature or X.reshape(1, -1) if it contains a single sample.\n",
      "  DeprecationWarning)\n"
     ]
    }
   ],
   "source": [
    "# We can use this spike for prediction\n",
    "print(\"Predicted slope w/o spike {}, with spike {}\".format(svm.predict(data_2015), svm.predict(0 * spike_X)))"
   ]
  },
  {
   "cell_type": "code",
   "execution_count": null,
   "metadata": {
    "collapsed": true
   },
   "outputs": [],
   "source": []
  }
 ],
 "metadata": {
  "kernelspec": {
   "display_name": "Python 3",
   "language": "python",
   "name": "python3"
  },
  "language_info": {
   "codemirror_mode": {
    "name": "ipython",
    "version": 3
   },
   "file_extension": ".py",
   "mimetype": "text/x-python",
   "name": "python",
   "nbconvert_exporter": "python",
   "pygments_lexer": "ipython3",
   "version": "3.5.1"
  }
 },
 "nbformat": 4,
 "nbformat_minor": 0
}
