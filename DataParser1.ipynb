{
 "cells": [
  {
   "cell_type": "code",
   "execution_count": 69,
   "metadata": {
    "collapsed": false
   },
   "outputs": [],
   "source": [
    "import os\n",
    "import xlrd\n",
    "import re\n",
    "import numpy as np\n",
    "from tqdm import tqdm"
   ]
  },
  {
   "cell_type": "code",
   "execution_count": 9,
   "metadata": {
    "collapsed": true
   },
   "outputs": [],
   "source": [
    "dataDir = \"./idea\""
   ]
  },
  {
   "cell_type": "code",
   "execution_count": 3,
   "metadata": {
    "collapsed": false
   },
   "outputs": [
    {
     "data": {
      "text/plain": [
       "['Population_and_Jobs_Metadata.xlsx',\n",
       " 'Governance 2004-2014.xlsx',\n",
       " 'Final Presentations',\n",
       " 'Health 1991-2014.xlsx',\n",
       " 'Labor 1991-2014.xlsx',\n",
       " 'Finance 1991-2014.xlsx',\n",
       " 'Worldwide_Governance_Indicators_Metadata.xlsx',\n",
       " 'Health 2001-2014.xlsx',\n",
       " 'Finance 2004-2014.xlsx',\n",
       " 'Wed Handout - Data Set Details.docx',\n",
       " 'Population_and_Jobs 2005-2014.xlsx',\n",
       " 'Health_Nutrition_and_Population_Statistics_Metadata.xlsx',\n",
       " 'Ag and Military 1991-2013.xlsx',\n",
       " 'International_Debt_Statistics_Metadata.xlsx']"
      ]
     },
     "execution_count": 3,
     "metadata": {},
     "output_type": "execute_result"
    }
   ],
   "source": [
    "os.listdir(dataDir)"
   ]
  },
  {
   "cell_type": "code",
   "execution_count": 19,
   "metadata": {
    "collapsed": false
   },
   "outputs": [],
   "source": [
    "workbook = xlrd.open_workbook(filename=\"{}/Population_and_Jobs 2005-2014.xlsx\".format(dataDir))"
   ]
  },
  {
   "cell_type": "code",
   "execution_count": 24,
   "metadata": {
    "collapsed": false
   },
   "outputs": [],
   "source": [
    "wb_data = workbook.sheet_by_index(workbook.sheet_names().index('Data'))"
   ]
  },
  {
   "cell_type": "code",
   "execution_count": 30,
   "metadata": {
    "collapsed": false
   },
   "outputs": [
    {
     "data": {
      "text/plain": [
       "['Country Name',\n",
       " 'Country Code',\n",
       " 'Series Name',\n",
       " 'Series Code',\n",
       " '2005 [YR2005]',\n",
       " '2006 [YR2006]',\n",
       " '2007 [YR2007]',\n",
       " '2008 [YR2008]',\n",
       " '2009 [YR2009]',\n",
       " '2010 [YR2010]',\n",
       " '2011 [YR2011]',\n",
       " '2012 [YR2012]',\n",
       " '2013 [YR2013]',\n",
       " '2014 [YR2014]']"
      ]
     },
     "execution_count": 30,
     "metadata": {},
     "output_type": "execute_result"
    }
   ],
   "source": [
    "headers = wb_data.row_values(0)\n",
    "headers"
   ]
  },
  {
   "cell_type": "code",
   "execution_count": 45,
   "metadata": {
    "collapsed": false
   },
   "outputs": [],
   "source": [
    "headers = [re.sub(\"\\[YR.*\\]\", \"\", h).strip() for h in headers]"
   ]
  },
  {
   "cell_type": "code",
   "execution_count": 47,
   "metadata": {
    "collapsed": false
   },
   "outputs": [],
   "source": [
    "d_rows = []\n",
    "for r in wb_data.get_rows():\n",
    "    d_rows.append([c.value for c in r])\n",
    "\n",
    "d_rows = d_rows[1:] # remove header"
   ]
  },
  {
   "cell_type": "code",
   "execution_count": 86,
   "metadata": {
    "collapsed": false
   },
   "outputs": [
    {
     "data": {
      "text/plain": [
       "[('Country Name', 'S32'),\n",
       " ('Country Code', 'S32'),\n",
       " ('Series Name', 'S32'),\n",
       " ('Series Code', 'S32'),\n",
       " ('2005', 'f4'),\n",
       " ('2006', 'f4'),\n",
       " ('2007', 'f4'),\n",
       " ('2008', 'f4'),\n",
       " ('2009', 'f4'),\n",
       " ('2010', 'f4'),\n",
       " ('2011', 'f4'),\n",
       " ('2012', 'f4'),\n",
       " ('2013', 'f4'),\n",
       " ('2014', 'f4')]"
      ]
     },
     "execution_count": 86,
     "metadata": {},
     "output_type": "execute_result"
    }
   ],
   "source": [
    "string_headers = [0,1,2,3]\n",
    "np_headers = [i in string_headers and (n, \"S32\") or (n, \"f4\") for (i,n) in enumerate(headers)]\n",
    "np_headers"
   ]
  },
  {
   "cell_type": "code",
   "execution_count": 87,
   "metadata": {
    "collapsed": false
   },
   "outputs": [
    {
     "name": "stderr",
     "output_type": "stream",
     "text": [
      "100%|██████████| 2678/2678 [00:00<00:00, 37247.71it/s]\n"
     ]
    }
   ],
   "source": [
    "dnp = []\n",
    "for r in tqdm(d_rows):\n",
    "    r_filled = [c == \"..\" and -1 or c for c in r]\n",
    "    if r_filled[0] == '' or r_filled[1] == '':\n",
    "        continue\n",
    "    try:\n",
    "        dnp.append(np.array(tuple(r_filled), dtype=np_headers))\n",
    "    except:\n",
    "        print(r_filled)\n",
    "        break\n",
    "dnp = np.array(dnp, dtype=np_headers)"
   ]
  },
  {
   "cell_type": "code",
   "execution_count": 93,
   "metadata": {
    "collapsed": false
   },
   "outputs": [],
   "source": [
    "population_and_jobs = dnp"
   ]
  },
  {
   "cell_type": "code",
   "execution_count": 117,
   "metadata": {
    "collapsed": false
   },
   "outputs": [
    {
     "name": "stdout",
     "output_type": "stream",
     "text": [
      "['Series Name', 'Series Code', 'Country Name', 'Country Code', '1991 [YR1991]', '1992 [YR1992]', '1993 [YR1993]', '1994 [YR1994]', '1995 [YR1995]', '1996 [YR1996]', '1997 [YR1997]', '1998 [YR1998]', '1999 [YR1999]', '2000 [YR2000]', '2001 [YR2001]', '2002 [YR2002]', '2003 [YR2003]', '2004 [YR2004]', '2005 [YR2005]', '2006 [YR2006]', '2007 [YR2007]', '2008 [YR2008]', '2009 [YR2009]', '2010 [YR2010]', '2011 [YR2011]', '2012 [YR2012]', '2013 [YR2013]', '2014 [YR2014]', '2015 [YR2015]']\n"
     ]
    },
    {
     "name": "stderr",
     "output_type": "stream",
     "text": [
      "100%|██████████| 501/501 [00:00<00:00, 21647.96it/s]\n"
     ]
    }
   ],
   "source": [
    "workbook = xlrd.open_workbook(filename=\"{}/Labor 1991-2014.xlsx\".format(dataDir))\n",
    "wb_data = workbook.sheet_by_index(workbook.sheet_names().index('Data'))\n",
    "headers = wb_data.row_values(0)\n",
    "print(headers)\n",
    "headers = [re.sub(\"\\[YR.*\\]\", \"\", h).strip() for h in headers]\n",
    "d_rows = []\n",
    "for r in wb_data.get_rows():\n",
    "    d_rows.append([c.value for c in r])\n",
    "\n",
    "d_rows = d_rows[1:] # remove header\n",
    "string_headers = [0,1,2,3]\n",
    "np_headers = [i in string_headers and (n, \"S32\") or (n, \"f4\") for (i,n) in enumerate(headers)]\n",
    "np_headers\n",
    "dnp = []\n",
    "for r in tqdm(d_rows):\n",
    "    r_filled = [c == \"..\" and -1 or c for c in r]\n",
    "    for si in string_headers:\n",
    "        r_filled[si] = \"\".join([c for c in r_filled[si] if ord(c) < 128])\n",
    "    if r_filled[0] == '' or r_filled[1] == '':\n",
    "        continue\n",
    "    try:\n",
    "        dnp.append(np.array(tuple(r_filled), dtype=np_headers))\n",
    "    except:\n",
    "        raise\n",
    "        break\n",
    "dnp = np.array(dnp, dtype=np_headers)\n",
    "labor = dnp"
   ]
  },
  {
   "cell_type": "code",
   "execution_count": 118,
   "metadata": {
    "collapsed": false
   },
   "outputs": [
    {
     "name": "stdout",
     "output_type": "stream",
     "text": [
      "['Series Name', 'Series Code', 'Country Name', 'Country Code', '2001 [YR2001]', '2002 [YR2002]', '2003 [YR2003]', '2004 [YR2004]', '2005 [YR2005]', '2006 [YR2006]', '2007 [YR2007]', '2008 [YR2008]', '2009 [YR2009]', '2010 [YR2010]', '2011 [YR2011]', '2012 [YR2012]', '2013 [YR2013]', '2014 [YR2014]']\n"
     ]
    },
    {
     "name": "stderr",
     "output_type": "stream",
     "text": [
      "100%|██████████| 746/746 [00:00<00:00, 32653.44it/s]\n"
     ]
    }
   ],
   "source": [
    "workbook = xlrd.open_workbook(filename=\"{}/Health 2001-2014.xlsx\".format(dataDir))\n",
    "wb_data = workbook.sheet_by_index(workbook.sheet_names().index('Data'))\n",
    "headers = wb_data.row_values(0)\n",
    "print(headers)\n",
    "headers = [re.sub(\"\\[YR.*\\]\", \"\", h).strip() for h in headers]\n",
    "d_rows = []\n",
    "for r in wb_data.get_rows():\n",
    "    d_rows.append([c.value for c in r])\n",
    "\n",
    "d_rows = d_rows[1:] # remove header\n",
    "string_headers = [0,1,2,3]\n",
    "np_headers = [i in string_headers and (n, \"S32\") or (n, \"f4\") for (i,n) in enumerate(headers)]\n",
    "np_headers\n",
    "dnp = []\n",
    "for r in tqdm(d_rows):\n",
    "    r_filled = [c == \"..\" and -1 or c for c in r]\n",
    "    for si in string_headers:\n",
    "        r_filled[si] = \"\".join([c for c in r_filled[si] if ord(c) < 128])\n",
    "    if r_filled[0] == '' or r_filled[1] == '':\n",
    "        continue\n",
    "    try:\n",
    "        dnp.append(np.array(tuple(r_filled), dtype=np_headers))\n",
    "    except:\n",
    "        raise\n",
    "        break\n",
    "dnp = np.array(dnp, dtype=np_headers)\n",
    "health = dnp"
   ]
  },
  {
   "cell_type": "code",
   "execution_count": 119,
   "metadata": {
    "collapsed": false
   },
   "outputs": [
    {
     "name": "stdout",
     "output_type": "stream",
     "text": [
      "['Country Name', 'Country Code', 'Series Name', 'Series Code', '2005 [YR2005]', '2006 [YR2006]', '2007 [YR2007]', '2008 [YR2008]', '2009 [YR2009]', '2010 [YR2010]', '2011 [YR2011]', '2012 [YR2012]', '2013 [YR2013]', '2014 [YR2014]']\n"
     ]
    },
    {
     "name": "stderr",
     "output_type": "stream",
     "text": [
      "100%|██████████| 7745/7745 [00:00<00:00, 34090.80it/s]\n"
     ]
    }
   ],
   "source": [
    "workbook = xlrd.open_workbook(filename=\"{}/Governance 2004-2014.xlsx\".format(dataDir))\n",
    "wb_data = workbook.sheet_by_index(workbook.sheet_names().index('Data'))\n",
    "headers = wb_data.row_values(0)\n",
    "print(headers)\n",
    "headers = [re.sub(\"\\[YR.*\\]\", \"\", h).strip() for h in headers]\n",
    "d_rows = []\n",
    "for r in wb_data.get_rows():\n",
    "    d_rows.append([c.value for c in r])\n",
    "\n",
    "d_rows = d_rows[1:] # remove header\n",
    "string_headers = [0,1,2,3]\n",
    "np_headers = [i in string_headers and (n, \"S32\") or (n, \"f4\") for (i,n) in enumerate(headers)]\n",
    "np_headers\n",
    "dnp = []\n",
    "for r in tqdm(d_rows):\n",
    "    r_filled = [c == \"..\" and -1 or c for c in r]\n",
    "    for si in string_headers:\n",
    "        r_filled[si] = \"\".join([c for c in r_filled[si] if ord(c) < 128])\n",
    "    if r_filled[0] == '' or r_filled[1] == '':\n",
    "        continue\n",
    "    try:\n",
    "        dnp.append(np.array(tuple(r_filled), dtype=np_headers))\n",
    "    except:\n",
    "        raise\n",
    "        break\n",
    "dnp = np.array(dnp, dtype=np_headers)\n",
    "governance = dnp"
   ]
  },
  {
   "cell_type": "code",
   "execution_count": null,
   "metadata": {
    "collapsed": true
   },
   "outputs": [],
   "source": [
    "Finance 1991-2014.xlsx"
   ]
  },
  {
   "cell_type": "code",
   "execution_count": 120,
   "metadata": {
    "collapsed": false
   },
   "outputs": [
    {
     "name": "stdout",
     "output_type": "stream",
     "text": [
      "['Country Name', 'Country Code', 'Series Name', 'Series Code', '2005 [YR2005]', '2006 [YR2006]', '2007 [YR2007]', '2008 [YR2008]', '2009 [YR2009]', '2010 [YR2010]', '2011 [YR2011]', '2012 [YR2012]', '2013 [YR2013]', '2014 [YR2014]']\n"
     ]
    },
    {
     "name": "stderr",
     "output_type": "stream",
     "text": [
      "100%|██████████| 7745/7745 [00:00<00:00, 33083.67it/s]\n"
     ]
    },
    {
     "name": "stdout",
     "output_type": "stream",
     "text": [
      "['Country Name', 'Country Code', 'Series Name', 'Series Code', '1991 [YR1991]', '1992 [YR1992]', '1993 [YR1993]', '1994 [YR1994]', '1995 [YR1995]', '1996 [YR1996]', '1997 [YR1997]', '1998 [YR1998]', '1999 [YR1999]', '2000 [YR2000]', '2001 [YR2001]', '2002 [YR2002]', '2003 [YR2003]', '2004 [YR2004]', '2005 [YR2005]', '2006 [YR2006]', '2007 [YR2007]', '2008 [YR2008]', '2009 [YR2009]', '2010 [YR2010]', '2011 [YR2011]', '2012 [YR2012]', '2013 [YR2013]', '2014 [YR2014]', '2015 [YR2015]']\n"
     ]
    },
    {
     "name": "stderr",
     "output_type": "stream",
     "text": [
      "100%|██████████| 3229/3229 [00:00<00:00, 27433.74it/s]\n"
     ]
    },
    {
     "name": "stdout",
     "output_type": "stream",
     "text": [
      "['Series Name', 'Series Code', 'Country Name', 'Country Code', '1991 [YR1991]', '1992 [YR1992]', '1993 [YR1993]', '1994 [YR1994]', '1995 [YR1995]', '1996 [YR1996]', '1997 [YR1997]', '1998 [YR1998]', '1999 [YR1999]', '2000 [YR2000]', '2001 [YR2001]', '2002 [YR2002]', '2003 [YR2003]', '2004 [YR2004]', '2005 [YR2005]', '2006 [YR2006]', '2007 [YR2007]', '2008 [YR2008]', '2009 [YR2009]', '2010 [YR2010]', '2011 [YR2011]', '2012 [YR2012]', '2013 [YR2013]', '2014 [YR2014]', '2015 [YR2015]']\n"
     ]
    },
    {
     "name": "stderr",
     "output_type": "stream",
     "text": [
      "100%|██████████| 501/501 [00:00<00:00, 30601.54it/s]\n"
     ]
    },
    {
     "name": "stdout",
     "output_type": "stream",
     "text": [
      "['Country Name', 'Country Code', 'Series Name', 'Series Code', '1991 [YR1991]', '1992 [YR1992]', '1993 [YR1993]', '1994 [YR1994]', '1995 [YR1995]', '1996 [YR1996]', '1997 [YR1997]', '1998 [YR1998]', '1999 [YR1999]', '2000 [YR2000]', '2001 [YR2001]', '2002 [YR2002]', '2003 [YR2003]', '2004 [YR2004]', '2005 [YR2005]', '2006 [YR2006]', '2007 [YR2007]', '2008 [YR2008]', '2009 [YR2009]', '2010 [YR2010]', '2011 [YR2011]', '2012 [YR2012]', '2013 [YR2013]', '2014 [YR2014]', '2015 [YR2015]']\n"
     ]
    },
    {
     "name": "stderr",
     "output_type": "stream",
     "text": [
      "100%|██████████| 2237/2237 [00:00<00:00, 31809.50it/s]\n"
     ]
    },
    {
     "name": "stdout",
     "output_type": "stream",
     "text": [
      "['Series Name', 'Series Code', 'Country Name', 'Country Code', '2001 [YR2001]', '2002 [YR2002]', '2003 [YR2003]', '2004 [YR2004]', '2005 [YR2005]', '2006 [YR2006]', '2007 [YR2007]', '2008 [YR2008]', '2009 [YR2009]', '2010 [YR2010]', '2011 [YR2011]', '2012 [YR2012]', '2013 [YR2013]', '2014 [YR2014]']\n"
     ]
    },
    {
     "name": "stderr",
     "output_type": "stream",
     "text": [
      "100%|██████████| 746/746 [00:00<00:00, 32186.22it/s]\n"
     ]
    },
    {
     "name": "stdout",
     "output_type": "stream",
     "text": [
      "['Country Name', 'Country Code', 'Series Name', 'Series Code', '2004 [YR2004]', '2005 [YR2005]', '2006 [YR2006]', '2007 [YR2007]', '2008 [YR2008]', '2009 [YR2009]', '2010 [YR2010]', '2012 [YR2012]', '2013 [YR2013]', '2014 [YR2014]']\n"
     ]
    },
    {
     "name": "stderr",
     "output_type": "stream",
     "text": [
      "100%|██████████| 1184/1184 [00:00<00:00, 20522.84it/s]\n"
     ]
    }
   ],
   "source": [
    "dfiles = [\n",
    "'Governance 2004-2014.xlsx',\n",
    "'Health 1991-2014.xlsx',\n",
    "'Labor 1991-2014.xlsx',\n",
    "'Finance 1991-2014.xlsx',\n",
    "'Health 2001-2014.xlsx',\n",
    "'Finance 2004-2014.xlsx',\n",
    "'Population_and_Jobs 2005-2014.xlsx',\n",
    "'Ag and Military 1991-2013.xlsx']\n",
    "dnames = ['gov', 'health', 'labor', 'finance', 'popjobs', 'agri_mil']\n",
    "\n",
    "dat = {}\n",
    "for file,dname in zip(dfiles, dnames):\n",
    "    workbook = xlrd.open_workbook(filename=\"{}/{}\".format(dataDir, file))\n",
    "    wb_data = workbook.sheet_by_index(workbook.sheet_names().index('Data'))\n",
    "    headers = wb_data.row_values(0)\n",
    "    print(headers)\n",
    "    headers = [re.sub(\"\\[YR.*\\]\", \"\", h).strip() for h in headers]\n",
    "    d_rows = []\n",
    "    for r in wb_data.get_rows():\n",
    "        d_rows.append([c.value for c in r])\n",
    "\n",
    "    d_rows = d_rows[1:] # remove header\n",
    "    string_headers = [0,1,2,3]\n",
    "    np_headers = [i in string_headers and (n, \"S32\") or (n, \"f4\") for (i,n) in enumerate(headers)]\n",
    "    np_headers\n",
    "    dnp = []\n",
    "    for r in tqdm(d_rows):\n",
    "        r_filled = [c == \"..\" and -1 or c for c in r]\n",
    "        for si in string_headers:\n",
    "            r_filled[si] = \"\".join([c for c in r_filled[si] if ord(c) < 128])\n",
    "        if r_filled[0] == '' or r_filled[1] == '':\n",
    "            continue\n",
    "        try:\n",
    "            dnp.append(np.array(tuple(r_filled), dtype=np_headers))\n",
    "        except:\n",
    "            raise\n",
    "            break\n",
    "    dnp = np.array(dnp, dtype=np_headers)\n",
    "    dat[dname] = dnames"
   ]
  },
  {
   "cell_type": "code",
   "execution_count": 126,
   "metadata": {
    "collapsed": false
   },
   "outputs": [
    {
     "ename": "TypeError",
     "evalue": "write() argument must be str, not bytes",
     "output_type": "error",
     "traceback": [
      "\u001b[1;31m---------------------------------------------------------------------------\u001b[0m",
      "\u001b[1;31mTypeError\u001b[0m                                 Traceback (most recent call last)",
      "\u001b[1;32m<ipython-input-126-a66185a3e58d>\u001b[0m in \u001b[0;36m<module>\u001b[1;34m()\u001b[0m\n\u001b[0;32m      1\u001b[0m \u001b[1;31m# ['gov', 'health', 'labor', 'finance', 'popjobs', 'agri_mil']\u001b[0m\u001b[1;33m\u001b[0m\u001b[1;33m\u001b[0m\u001b[0m\n\u001b[0;32m      2\u001b[0m \u001b[0mdata1_file\u001b[0m \u001b[1;33m=\u001b[0m \u001b[0mopen\u001b[0m\u001b[1;33m(\u001b[0m\u001b[1;34m\"data1.npz\"\u001b[0m\u001b[1;33m,\u001b[0m \u001b[1;34m'w'\u001b[0m\u001b[1;33m)\u001b[0m\u001b[1;33m\u001b[0m\u001b[0m\n\u001b[1;32m----> 3\u001b[1;33m \u001b[0mnp\u001b[0m\u001b[1;33m.\u001b[0m\u001b[0msavez\u001b[0m\u001b[1;33m(\u001b[0m\u001b[0mdata1_file\u001b[0m\u001b[1;33m,\u001b[0m \u001b[0mgov\u001b[0m\u001b[1;33m=\u001b[0m\u001b[0mdat\u001b[0m\u001b[1;33m[\u001b[0m\u001b[1;34m'gov'\u001b[0m\u001b[1;33m]\u001b[0m\u001b[1;33m,\u001b[0m \u001b[0mhealth\u001b[0m\u001b[1;33m=\u001b[0m\u001b[0mdat\u001b[0m\u001b[1;33m[\u001b[0m\u001b[1;34m'health'\u001b[0m\u001b[1;33m]\u001b[0m\u001b[1;33m,\u001b[0m \u001b[0mlabor\u001b[0m\u001b[1;33m=\u001b[0m\u001b[0mdat\u001b[0m\u001b[1;33m[\u001b[0m\u001b[1;34m'labor'\u001b[0m\u001b[1;33m]\u001b[0m\u001b[1;33m,\u001b[0m \u001b[0mfinance\u001b[0m\u001b[1;33m=\u001b[0m\u001b[0mdat\u001b[0m\u001b[1;33m[\u001b[0m\u001b[1;34m'finance'\u001b[0m\u001b[1;33m]\u001b[0m\u001b[1;33m,\u001b[0m \u001b[0mpopulation_jobs\u001b[0m\u001b[1;33m=\u001b[0m\u001b[0mdat\u001b[0m\u001b[1;33m[\u001b[0m\u001b[1;34m'popjobs'\u001b[0m\u001b[1;33m]\u001b[0m\u001b[1;33m,\u001b[0m \u001b[0magri_military\u001b[0m\u001b[1;33m=\u001b[0m\u001b[0mdat\u001b[0m\u001b[1;33m[\u001b[0m\u001b[1;34m'agri_mil'\u001b[0m\u001b[1;33m]\u001b[0m\u001b[1;33m)\u001b[0m\u001b[1;33m\u001b[0m\u001b[0m\n\u001b[0m",
      "\u001b[1;32m/usr/lib/python3.5/site-packages/numpy/lib/npyio.py\u001b[0m in \u001b[0;36msavez\u001b[1;34m(file, *args, **kwds)\u001b[0m\n\u001b[0;32m    572\u001b[0m \u001b[1;33m\u001b[0m\u001b[0m\n\u001b[0;32m    573\u001b[0m     \"\"\"\n\u001b[1;32m--> 574\u001b[1;33m     \u001b[0m_savez\u001b[0m\u001b[1;33m(\u001b[0m\u001b[0mfile\u001b[0m\u001b[1;33m,\u001b[0m \u001b[0margs\u001b[0m\u001b[1;33m,\u001b[0m \u001b[0mkwds\u001b[0m\u001b[1;33m,\u001b[0m \u001b[1;32mFalse\u001b[0m\u001b[1;33m)\u001b[0m\u001b[1;33m\u001b[0m\u001b[0m\n\u001b[0m\u001b[0;32m    575\u001b[0m \u001b[1;33m\u001b[0m\u001b[0m\n\u001b[0;32m    576\u001b[0m \u001b[1;33m\u001b[0m\u001b[0m\n",
      "\u001b[1;32m/usr/lib/python3.5/site-packages/numpy/lib/npyio.py\u001b[0m in \u001b[0;36m_savez\u001b[1;34m(file, args, kwds, compress, allow_pickle, pickle_kwargs)\u001b[0m\n\u001b[0;32m    640\u001b[0m                 \u001b[0mfid\u001b[0m\u001b[1;33m.\u001b[0m\u001b[0mclose\u001b[0m\u001b[1;33m(\u001b[0m\u001b[1;33m)\u001b[0m\u001b[1;33m\u001b[0m\u001b[0m\n\u001b[0;32m    641\u001b[0m                 \u001b[0mfid\u001b[0m \u001b[1;33m=\u001b[0m \u001b[1;32mNone\u001b[0m\u001b[1;33m\u001b[0m\u001b[0m\n\u001b[1;32m--> 642\u001b[1;33m                 \u001b[0mzipf\u001b[0m\u001b[1;33m.\u001b[0m\u001b[0mwrite\u001b[0m\u001b[1;33m(\u001b[0m\u001b[0mtmpfile\u001b[0m\u001b[1;33m,\u001b[0m \u001b[0marcname\u001b[0m\u001b[1;33m=\u001b[0m\u001b[0mfname\u001b[0m\u001b[1;33m)\u001b[0m\u001b[1;33m\u001b[0m\u001b[0m\n\u001b[0m\u001b[0;32m    643\u001b[0m             \u001b[1;32mfinally\u001b[0m\u001b[1;33m:\u001b[0m\u001b[1;33m\u001b[0m\u001b[0m\n\u001b[0;32m    644\u001b[0m                 \u001b[1;32mif\u001b[0m \u001b[0mfid\u001b[0m\u001b[1;33m:\u001b[0m\u001b[1;33m\u001b[0m\u001b[0m\n",
      "\u001b[1;32m/usr/lib/python3.5/zipfile.py\u001b[0m in \u001b[0;36mwrite\u001b[1;34m(self, filename, arcname, compress_type)\u001b[0m\n\u001b[0;32m   1484\u001b[0m                 \u001b[0mzip64\u001b[0m \u001b[1;33m=\u001b[0m \u001b[0mself\u001b[0m\u001b[1;33m.\u001b[0m\u001b[0m_allowZip64\u001b[0m \u001b[1;32mand\u001b[0m\u001b[0;31m \u001b[0m\u001b[0;31m\\\u001b[0m\u001b[1;33m\u001b[0m\u001b[0m\n\u001b[0;32m   1485\u001b[0m                     \u001b[0mzinfo\u001b[0m\u001b[1;33m.\u001b[0m\u001b[0mfile_size\u001b[0m \u001b[1;33m*\u001b[0m \u001b[1;36m1.05\u001b[0m \u001b[1;33m>\u001b[0m \u001b[0mZIP64_LIMIT\u001b[0m\u001b[1;33m\u001b[0m\u001b[0m\n\u001b[1;32m-> 1486\u001b[1;33m                 \u001b[0mself\u001b[0m\u001b[1;33m.\u001b[0m\u001b[0mfp\u001b[0m\u001b[1;33m.\u001b[0m\u001b[0mwrite\u001b[0m\u001b[1;33m(\u001b[0m\u001b[0mzinfo\u001b[0m\u001b[1;33m.\u001b[0m\u001b[0mFileHeader\u001b[0m\u001b[1;33m(\u001b[0m\u001b[0mzip64\u001b[0m\u001b[1;33m)\u001b[0m\u001b[1;33m)\u001b[0m\u001b[1;33m\u001b[0m\u001b[0m\n\u001b[0m\u001b[0;32m   1487\u001b[0m                 \u001b[0mfile_size\u001b[0m \u001b[1;33m=\u001b[0m \u001b[1;36m0\u001b[0m\u001b[1;33m\u001b[0m\u001b[0m\n\u001b[0;32m   1488\u001b[0m                 \u001b[1;32mwhile\u001b[0m \u001b[1;36m1\u001b[0m\u001b[1;33m:\u001b[0m\u001b[1;33m\u001b[0m\u001b[0m\n",
      "\u001b[1;31mTypeError\u001b[0m: write() argument must be str, not bytes"
     ]
    }
   ],
   "source": [
    "# ['gov', 'health', 'labor', 'finance', 'popjobs', 'agri_mil']\n",
    "data1_file = open(x, 'w')\n",
    "np.savez(\"data1.npz\", gov=dat['gov'], health=dat['health'], labor=dat['labor'], finance=dat['finance'], population_jobs=dat['popjobs'], agri_military=dat['agri_mil'])"
   ]
  },
  {
   "cell_type": "code",
   "execution_count": 125,
   "metadata": {
    "collapsed": false
   },
   "outputs": [
    {
     "name": "stdout",
     "output_type": "stream",
     "text": [
      "Help on function savez in module numpy.lib.npyio:\n",
      "\n",
      "savez(file, *args, **kwds)\n",
      "    Save several arrays into a single file in uncompressed ``.npz`` format.\n",
      "    \n",
      "    If arguments are passed in with no keywords, the corresponding variable\n",
      "    names, in the ``.npz`` file, are 'arr_0', 'arr_1', etc. If keyword\n",
      "    arguments are given, the corresponding variable names, in the ``.npz``\n",
      "    file will match the keyword names.\n",
      "    \n",
      "    Parameters\n",
      "    ----------\n",
      "    file : str or file\n",
      "        Either the file name (string) or an open file (file-like object)\n",
      "        where the data will be saved. If file is a string, the ``.npz``\n",
      "        extension will be appended to the file name if it is not already there.\n",
      "    args : Arguments, optional\n",
      "        Arrays to save to the file. Since it is not possible for Python to\n",
      "        know the names of the arrays outside `savez`, the arrays will be saved\n",
      "        with names \"arr_0\", \"arr_1\", and so on. These arguments can be any\n",
      "        expression.\n",
      "    kwds : Keyword arguments, optional\n",
      "        Arrays to save to the file. Arrays will be saved in the file with the\n",
      "        keyword names.\n",
      "    \n",
      "    Returns\n",
      "    -------\n",
      "    None\n",
      "    \n",
      "    See Also\n",
      "    --------\n",
      "    save : Save a single array to a binary file in NumPy format.\n",
      "    savetxt : Save an array to a file as plain text.\n",
      "    savez_compressed : Save several arrays into a compressed ``.npz`` archive\n",
      "    \n",
      "    Notes\n",
      "    -----\n",
      "    The ``.npz`` file format is a zipped archive of files named after the\n",
      "    variables they contain.  The archive is not compressed and each file\n",
      "    in the archive contains one variable in ``.npy`` format. For a\n",
      "    description of the ``.npy`` format, see `numpy.lib.format` or the\n",
      "    Numpy Enhancement Proposal\n",
      "    http://docs.scipy.org/doc/numpy/neps/npy-format.html\n",
      "    \n",
      "    When opening the saved ``.npz`` file with `load` a `NpzFile` object is\n",
      "    returned. This is a dictionary-like object which can be queried for\n",
      "    its list of arrays (with the ``.files`` attribute), and for the arrays\n",
      "    themselves.\n",
      "    \n",
      "    Examples\n",
      "    --------\n",
      "    >>> from tempfile import TemporaryFile\n",
      "    >>> outfile = TemporaryFile()\n",
      "    >>> x = np.arange(10)\n",
      "    >>> y = np.sin(x)\n",
      "    \n",
      "    Using `savez` with \\*args, the arrays are saved with default names.\n",
      "    \n",
      "    >>> np.savez(outfile, x, y)\n",
      "    >>> outfile.seek(0) # Only needed here to simulate closing & reopening file\n",
      "    >>> npzfile = np.load(outfile)\n",
      "    >>> npzfile.files\n",
      "    ['arr_1', 'arr_0']\n",
      "    >>> npzfile['arr_0']\n",
      "    array([0, 1, 2, 3, 4, 5, 6, 7, 8, 9])\n",
      "    \n",
      "    Using `savez` with \\**kwds, the arrays are saved with the keyword names.\n",
      "    \n",
      "    >>> outfile = TemporaryFile()\n",
      "    >>> np.savez(outfile, x=x, y=y)\n",
      "    >>> outfile.seek(0)\n",
      "    >>> npzfile = np.load(outfile)\n",
      "    >>> npzfile.files\n",
      "    ['y', 'x']\n",
      "    >>> npzfile['x']\n",
      "    array([0, 1, 2, 3, 4, 5, 6, 7, 8, 9])\n",
      "\n"
     ]
    }
   ],
   "source": [
    "help(np.savez)"
   ]
  }
 ],
 "metadata": {
  "kernelspec": {
   "display_name": "Python 3",
   "language": "python",
   "name": "python3"
  },
  "language_info": {
   "codemirror_mode": {
    "name": "ipython",
    "version": 3
   },
   "file_extension": ".py",
   "mimetype": "text/x-python",
   "name": "python",
   "nbconvert_exporter": "python",
   "pygments_lexer": "ipython3",
   "version": "3.5.1"
  }
 },
 "nbformat": 4,
 "nbformat_minor": 0
}
