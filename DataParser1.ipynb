{
 "cells": [
  {
   "cell_type": "code",
   "execution_count": 69,
   "metadata": {
    "collapsed": false
   },
   "outputs": [],
   "source": [
    "import os\n",
    "import xlrd\n",
    "import re\n",
    "import numpy as np\n",
    "from tqdm import tqdm"
   ]
  },
  {
   "cell_type": "code",
   "execution_count": 9,
   "metadata": {
    "collapsed": true
   },
   "outputs": [],
   "source": [
    "dataDir = \"./idea\""
   ]
  },
  {
   "cell_type": "code",
   "execution_count": 3,
   "metadata": {
    "collapsed": false
   },
   "outputs": [
    {
     "data": {
      "text/plain": [
       "['Population_and_Jobs_Metadata.xlsx',\n",
       " 'Governance 2004-2014.xlsx',\n",
       " 'Final Presentations',\n",
       " 'Health 1991-2014.xlsx',\n",
       " 'Labor 1991-2014.xlsx',\n",
       " 'Finance 1991-2014.xlsx',\n",
       " 'Worldwide_Governance_Indicators_Metadata.xlsx',\n",
       " 'Health 2001-2014.xlsx',\n",
       " 'Finance 2004-2014.xlsx',\n",
       " 'Wed Handout - Data Set Details.docx',\n",
       " 'Population_and_Jobs 2005-2014.xlsx',\n",
       " 'Health_Nutrition_and_Population_Statistics_Metadata.xlsx',\n",
       " 'Ag and Military 1991-2013.xlsx',\n",
       " 'International_Debt_Statistics_Metadata.xlsx']"
      ]
     },
     "execution_count": 3,
     "metadata": {},
     "output_type": "execute_result"
    }
   ],
   "source": [
    "os.listdir(dataDir)"
   ]
  },
  {
   "cell_type": "code",
   "execution_count": 19,
   "metadata": {
    "collapsed": false
   },
   "outputs": [],
   "source": [
    "workbook = xlrd.open_workbook(filename=\"{}/Population_and_Jobs 2005-2014.xlsx\".format(dataDir))"
   ]
  },
  {
   "cell_type": "code",
   "execution_count": 24,
   "metadata": {
    "collapsed": false
   },
   "outputs": [],
   "source": [
    "wb_data = workbook.sheet_by_index(workbook.sheet_names().index('Data'))"
   ]
  },
  {
   "cell_type": "code",
   "execution_count": 30,
   "metadata": {
    "collapsed": false
   },
   "outputs": [
    {
     "data": {
      "text/plain": [
       "['Country Name',\n",
       " 'Country Code',\n",
       " 'Series Name',\n",
       " 'Series Code',\n",
       " '2005 [YR2005]',\n",
       " '2006 [YR2006]',\n",
       " '2007 [YR2007]',\n",
       " '2008 [YR2008]',\n",
       " '2009 [YR2009]',\n",
       " '2010 [YR2010]',\n",
       " '2011 [YR2011]',\n",
       " '2012 [YR2012]',\n",
       " '2013 [YR2013]',\n",
       " '2014 [YR2014]']"
      ]
     },
     "execution_count": 30,
     "metadata": {},
     "output_type": "execute_result"
    }
   ],
   "source": [
    "headers = wb_data.row_values(0)\n",
    "headers"
   ]
  },
  {
   "cell_type": "code",
   "execution_count": 45,
   "metadata": {
    "collapsed": false
   },
   "outputs": [],
   "source": [
    "headers = [re.sub(\"\\[YR.*\\]\", \"\", h).strip() for h in headers]"
   ]
  },
  {
   "cell_type": "code",
   "execution_count": 47,
   "metadata": {
    "collapsed": false
   },
   "outputs": [],
   "source": [
    "d_rows = []\n",
    "for r in wb_data.get_rows():\n",
    "    d_rows.append([c.value for c in r])\n",
    "\n",
    "d_rows = d_rows[1:] # remove header"
   ]
  },
  {
   "cell_type": "code",
   "execution_count": 86,
   "metadata": {
    "collapsed": false
   },
   "outputs": [
    {
     "data": {
      "text/plain": [
       "[('Country Name', 'S32'),\n",
       " ('Country Code', 'S32'),\n",
       " ('Series Name', 'S32'),\n",
       " ('Series Code', 'S32'),\n",
       " ('2005', 'f4'),\n",
       " ('2006', 'f4'),\n",
       " ('2007', 'f4'),\n",
       " ('2008', 'f4'),\n",
       " ('2009', 'f4'),\n",
       " ('2010', 'f4'),\n",
       " ('2011', 'f4'),\n",
       " ('2012', 'f4'),\n",
       " ('2013', 'f4'),\n",
       " ('2014', 'f4')]"
      ]
     },
     "execution_count": 86,
     "metadata": {},
     "output_type": "execute_result"
    }
   ],
   "source": [
    "string_headers = [0,1,2,3]\n",
    "np_headers = [i in string_headers and (n, \"S32\") or (n, \"f4\") for (i,n) in enumerate(headers)]\n",
    "np_headers"
   ]
  },
  {
   "cell_type": "code",
   "execution_count": 87,
   "metadata": {
    "collapsed": false
   },
   "outputs": [
    {
     "name": "stderr",
     "output_type": "stream",
     "text": [
      "100%|██████████| 2678/2678 [00:00<00:00, 37247.71it/s]\n"
     ]
    }
   ],
   "source": [
    "dnp = []\n",
    "for r in tqdm(d_rows):\n",
    "    r_filled = [c == \"..\" and -1 or c for c in r]\n",
    "    if r_filled[0] == '' or r_filled[1] == '':\n",
    "        continue\n",
    "    try:\n",
    "        dnp.append(np.array(tuple(r_filled), dtype=np_headers))\n",
    "    except:\n",
    "        print(r_filled)\n",
    "        break\n",
    "dnp = np.array(dnp, dtype=np_headers)"
   ]
  },
  {
   "cell_type": "code",
   "execution_count": 93,
   "metadata": {
    "collapsed": false
   },
   "outputs": [],
   "source": [
    "population_and_jobs = dnp"
   ]
  },
  {
   "cell_type": "code",
   "execution_count": 117,
   "metadata": {
    "collapsed": false
   },
   "outputs": [
    {
     "name": "stdout",
     "output_type": "stream",
     "text": [
      "['Series Name', 'Series Code', 'Country Name', 'Country Code', '1991 [YR1991]', '1992 [YR1992]', '1993 [YR1993]', '1994 [YR1994]', '1995 [YR1995]', '1996 [YR1996]', '1997 [YR1997]', '1998 [YR1998]', '1999 [YR1999]', '2000 [YR2000]', '2001 [YR2001]', '2002 [YR2002]', '2003 [YR2003]', '2004 [YR2004]', '2005 [YR2005]', '2006 [YR2006]', '2007 [YR2007]', '2008 [YR2008]', '2009 [YR2009]', '2010 [YR2010]', '2011 [YR2011]', '2012 [YR2012]', '2013 [YR2013]', '2014 [YR2014]', '2015 [YR2015]']\n"
     ]
    },
    {
     "name": "stderr",
     "output_type": "stream",
     "text": [
      "100%|██████████| 501/501 [00:00<00:00, 21647.96it/s]\n"
     ]
    }
   ],
   "source": [
    "workbook = xlrd.open_workbook(filename=\"{}/Labor 1991-2014.xlsx\".format(dataDir))\n",
    "wb_data = workbook.sheet_by_index(workbook.sheet_names().index('Data'))\n",
    "headers = wb_data.row_values(0)\n",
    "print(headers)\n",
    "headers = [re.sub(\"\\[YR.*\\]\", \"\", h).strip() for h in headers]\n",
    "d_rows = []\n",
    "for r in wb_data.get_rows():\n",
    "    d_rows.append([c.value for c in r])\n",
    "\n",
    "d_rows = d_rows[1:] # remove header\n",
    "string_headers = [0,1,2,3]\n",
    "np_headers = [i in string_headers and (n, \"S32\") or (n, \"f4\") for (i,n) in enumerate(headers)]\n",
    "np_headers\n",
    "dnp = []\n",
    "for r in tqdm(d_rows):\n",
    "    r_filled = [c == \"..\" and -1 or c for c in r]\n",
    "    for si in string_headers:\n",
    "        r_filled[si] = \"\".join([c for c in r_filled[si] if ord(c) < 128])\n",
    "    if r_filled[0] == '' or r_filled[1] == '':\n",
    "        continue\n",
    "    try:\n",
    "        dnp.append(np.array(tuple(r_filled), dtype=np_headers))\n",
    "    except:\n",
    "        raise\n",
    "        break\n",
    "dnp = np.array(dnp, dtype=np_headers)\n",
    "labor = dnp"
   ]
  },
  {
   "cell_type": "code",
   "execution_count": 118,
   "metadata": {
    "collapsed": false
   },
   "outputs": [
    {
     "name": "stdout",
     "output_type": "stream",
     "text": [
      "['Series Name', 'Series Code', 'Country Name', 'Country Code', '2001 [YR2001]', '2002 [YR2002]', '2003 [YR2003]', '2004 [YR2004]', '2005 [YR2005]', '2006 [YR2006]', '2007 [YR2007]', '2008 [YR2008]', '2009 [YR2009]', '2010 [YR2010]', '2011 [YR2011]', '2012 [YR2012]', '2013 [YR2013]', '2014 [YR2014]']\n"
     ]
    },
    {
     "name": "stderr",
     "output_type": "stream",
     "text": [
      "100%|██████████| 746/746 [00:00<00:00, 32653.44it/s]\n"
     ]
    }
   ],
   "source": [
    "workbook = xlrd.open_workbook(filename=\"{}/Health 2001-2014.xlsx\".format(dataDir))\n",
    "wb_data = workbook.sheet_by_index(workbook.sheet_names().index('Data'))\n",
    "headers = wb_data.row_values(0)\n",
    "print(headers)\n",
    "headers = [re.sub(\"\\[YR.*\\]\", \"\", h).strip() for h in headers]\n",
    "d_rows = []\n",
    "for r in wb_data.get_rows():\n",
    "    d_rows.append([c.value for c in r])\n",
    "\n",
    "d_rows = d_rows[1:] # remove header\n",
    "string_headers = [0,1,2,3]\n",
    "np_headers = [i in string_headers and (n, \"S32\") or (n, \"f4\") for (i,n) in enumerate(headers)]\n",
    "np_headers\n",
    "dnp = []\n",
    "for r in tqdm(d_rows):\n",
    "    r_filled = [c == \"..\" and -1 or c for c in r]\n",
    "    for si in string_headers:\n",
    "        r_filled[si] = \"\".join([c for c in r_filled[si] if ord(c) < 128])\n",
    "    if r_filled[0] == '' or r_filled[1] == '':\n",
    "        continue\n",
    "    try:\n",
    "        dnp.append(np.array(tuple(r_filled), dtype=np_headers))\n",
    "    except:\n",
    "        raise\n",
    "        break\n",
    "dnp = np.array(dnp, dtype=np_headers)\n",
    "health = dnp"
   ]
  },
  {
   "cell_type": "code",
   "execution_count": 119,
   "metadata": {
    "collapsed": false
   },
   "outputs": [
    {
     "name": "stdout",
     "output_type": "stream",
     "text": [
      "['Country Name', 'Country Code', 'Series Name', 'Series Code', '2005 [YR2005]', '2006 [YR2006]', '2007 [YR2007]', '2008 [YR2008]', '2009 [YR2009]', '2010 [YR2010]', '2011 [YR2011]', '2012 [YR2012]', '2013 [YR2013]', '2014 [YR2014]']\n"
     ]
    },
    {
     "name": "stderr",
     "output_type": "stream",
     "text": [
      "100%|██████████| 7745/7745 [00:00<00:00, 34090.80it/s]\n"
     ]
    }
   ],
   "source": [
    "workbook = xlrd.open_workbook(filename=\"{}/Governance 2004-2014.xlsx\".format(dataDir))\n",
    "wb_data = workbook.sheet_by_index(workbook.sheet_names().index('Data'))\n",
    "headers = wb_data.row_values(0)\n",
    "print(headers)\n",
    "headers = [re.sub(\"\\[YR.*\\]\", \"\", h).strip() for h in headers]\n",
    "d_rows = []\n",
    "for r in wb_data.get_rows():\n",
    "    d_rows.append([c.value for c in r])\n",
    "\n",
    "d_rows = d_rows[1:] # remove header\n",
    "string_headers = [0,1,2,3]\n",
    "np_headers = [i in string_headers and (n, \"S32\") or (n, \"f4\") for (i,n) in enumerate(headers)]\n",
    "np_headers\n",
    "dnp = []\n",
    "for r in tqdm(d_rows):\n",
    "    r_filled = [c == \"..\" and -1 or c for c in r]\n",
    "    for si in string_headers:\n",
    "        r_filled[si] = \"\".join([c for c in r_filled[si] if ord(c) < 128])\n",
    "    if r_filled[0] == '' or r_filled[1] == '':\n",
    "        continue\n",
    "    try:\n",
    "        dnp.append(np.array(tuple(r_filled), dtype=np_headers))\n",
    "    except:\n",
    "        raise\n",
    "        break\n",
    "dnp = np.array(dnp, dtype=np_headers)\n",
    "governance = dnp"
   ]
  },
  {
   "cell_type": "code",
   "execution_count": null,
   "metadata": {
    "collapsed": true
   },
   "outputs": [],
   "source": [
    "Finance 1991-2014.xlsx"
   ]
  },
  {
   "cell_type": "code",
   "execution_count": 193,
   "metadata": {
    "collapsed": true
   },
   "outputs": [],
   "source": [
    "import sys"
   ]
  },
  {
   "cell_type": "code",
   "execution_count": 192,
   "metadata": {
    "collapsed": false
   },
   "outputs": [
    {
     "name": "stderr",
     "output_type": "stream",
     "text": [
      "100%|██████████| 7745/7745 [00:00<00:00, 42383.57it/s]\n",
      "100%|██████████| 3229/3229 [00:00<00:00, 31712.90it/s]\n",
      "100%|██████████| 501/501 [00:00<00:00, 42581.34it/s]\n",
      "100%|██████████| 2237/2237 [00:00<00:00, 58819.54it/s]\n",
      "100%|██████████| 746/746 [00:00<00:00, 58528.82it/s]\n"
     ]
    },
    {
     "name": "stdout",
     "output_type": "stream",
     "text": [
      "Finance 2004-2014.xlsx finance2\n",
      "['Country Name', 'Country Code', 'Series Name', 'Series Code', '2004', '2005', '2006', '2007', '2008', '2009', '2010', '2012', '2013', '2014']\n"
     ]
    },
    {
     "ename": "ValueError",
     "evalue": "'2011' is not in list",
     "output_type": "error",
     "traceback": [
      "\u001b[1;31m---------------------------------------------------------------------------\u001b[0m",
      "\u001b[1;31mValueError\u001b[0m                                Traceback (most recent call last)",
      "\u001b[1;32m<ipython-input-192-e4d04a9be1d1>\u001b[0m in \u001b[0;36m<module>\u001b[1;34m()\u001b[0m\n\u001b[0;32m     23\u001b[0m     \u001b[1;31m# Determine the correct indices for each element\u001b[0m\u001b[1;33m\u001b[0m\u001b[1;33m\u001b[0m\u001b[0m\n\u001b[0;32m     24\u001b[0m     \u001b[1;32mtry\u001b[0m\u001b[1;33m:\u001b[0m\u001b[1;33m\u001b[0m\u001b[0m\n\u001b[1;32m---> 25\u001b[1;33m         \u001b[0mheader_order\u001b[0m \u001b[1;33m=\u001b[0m \u001b[1;33m[\u001b[0m\u001b[0mheaders\u001b[0m\u001b[1;33m.\u001b[0m\u001b[0mindex\u001b[0m\u001b[1;33m(\u001b[0m\u001b[0mh\u001b[0m\u001b[1;33m)\u001b[0m \u001b[1;32mfor\u001b[0m \u001b[0mh\u001b[0m \u001b[1;32min\u001b[0m \u001b[0mheader_correct_order\u001b[0m\u001b[1;33m]\u001b[0m\u001b[1;33m\u001b[0m\u001b[0m\n\u001b[0m\u001b[0;32m     26\u001b[0m     \u001b[1;32mexcept\u001b[0m\u001b[1;33m:\u001b[0m\u001b[1;33m\u001b[0m\u001b[0m\n\u001b[0;32m     27\u001b[0m         \u001b[0mprint\u001b[0m\u001b[1;33m(\u001b[0m\u001b[0mfile\u001b[0m\u001b[1;33m,\u001b[0m \u001b[0mdname\u001b[0m\u001b[1;33m)\u001b[0m\u001b[1;33m\u001b[0m\u001b[0m\n",
      "\u001b[1;32m<ipython-input-192-e4d04a9be1d1>\u001b[0m in \u001b[0;36m<listcomp>\u001b[1;34m(.0)\u001b[0m\n\u001b[0;32m     23\u001b[0m     \u001b[1;31m# Determine the correct indices for each element\u001b[0m\u001b[1;33m\u001b[0m\u001b[1;33m\u001b[0m\u001b[0m\n\u001b[0;32m     24\u001b[0m     \u001b[1;32mtry\u001b[0m\u001b[1;33m:\u001b[0m\u001b[1;33m\u001b[0m\u001b[0m\n\u001b[1;32m---> 25\u001b[1;33m         \u001b[0mheader_order\u001b[0m \u001b[1;33m=\u001b[0m \u001b[1;33m[\u001b[0m\u001b[0mheaders\u001b[0m\u001b[1;33m.\u001b[0m\u001b[0mindex\u001b[0m\u001b[1;33m(\u001b[0m\u001b[0mh\u001b[0m\u001b[1;33m)\u001b[0m \u001b[1;32mfor\u001b[0m \u001b[0mh\u001b[0m \u001b[1;32min\u001b[0m \u001b[0mheader_correct_order\u001b[0m\u001b[1;33m]\u001b[0m\u001b[1;33m\u001b[0m\u001b[0m\n\u001b[0m\u001b[0;32m     26\u001b[0m     \u001b[1;32mexcept\u001b[0m\u001b[1;33m:\u001b[0m\u001b[1;33m\u001b[0m\u001b[0m\n\u001b[0;32m     27\u001b[0m         \u001b[0mprint\u001b[0m\u001b[1;33m(\u001b[0m\u001b[0mfile\u001b[0m\u001b[1;33m,\u001b[0m \u001b[0mdname\u001b[0m\u001b[1;33m)\u001b[0m\u001b[1;33m\u001b[0m\u001b[0m\n",
      "\u001b[1;31mValueError\u001b[0m: '2011' is not in list"
     ]
    }
   ],
   "source": [
    "dfiles = [\n",
    "'Governance 2004-2014.xlsx',\n",
    "'Health 1991-2014.xlsx',\n",
    "'Labor 1991-2014.xlsx',\n",
    "'Finance 1991-2014.xlsx',\n",
    "'Health 2001-2014.xlsx',\n",
    "'Finance 2004-2014.xlsx',\n",
    "'Population_and_Jobs 2005-2014.xlsx',\n",
    "'Ag and Military 1991-2013.xlsx']\n",
    "dnames = ['gov', 'health1', 'labor', 'finance1', 'health2', 'finance2', 'popjobs', 'agri_mil']\n",
    "header_correct_order = [\"Country Name\", \"Country Code\", \"Series Name\", \"Series Code\"] + [str(i) for i in range(2005,2015)]\n",
    "\n",
    "np_headers = [i in string_headers and (n, \"S32\") or (n, \"f4\") for (i,n) in enumerate(header_correct_order)]\n",
    "\n",
    "dat = {}\n",
    "alldat = []\n",
    "for file,dname in zip(dfiles, dnames):\n",
    "    workbook = xlrd.open_workbook(filename=\"{}/{}\".format(dataDir, file))\n",
    "    wb_data = workbook.sheet_by_index(workbook.sheet_names().index('Data'))\n",
    "    headers = wb_data.row_values(0)\n",
    "    headers = [re.sub(\"\\[YR.*\\]\", \"\", h).strip() for h in headers]\n",
    "    \n",
    "    # Determine the correct indices for each element\n",
    "    try:\n",
    "        header_order = [headers.index(h) for h in header_correct_order]\n",
    "    except:\n",
    "        print(file, dname)\n",
    "        print(headers)\n",
    "        print(\"ERROR COULD NOT PARSE {}\".format(sys.exc_info()[0]))\n",
    "    \n",
    "    d_rows = []\n",
    "    for r in wb_data.get_rows():\n",
    "        row_vals = [c.value for c in r]\n",
    "        d_rows.append([i < len(row_vals) and row_vals[i] or -1 for i in header_order])\n",
    "    \n",
    "    d_rows = d_rows[1:] # remove header\n",
    "    \n",
    "    string_headers = [0,1,2,3]\n",
    "    dnp = []\n",
    "    for r in tqdm(d_rows):\n",
    "        r_filled = [c == \"..\" and -1 or c for c in r]\n",
    "        \n",
    "        # TODO? Incorrect?\n",
    "        # Remove any entries with missing elements\n",
    "        if -1 in r_filled:\n",
    "            continue\n",
    "        \n",
    "        for si in string_headers:\n",
    "            r_filled[si] = \"\".join([c for c in r_filled[si] if ord(c) < 128])\n",
    "        if r_filled[0] == '' or r_filled[1] == '':\n",
    "            continue\n",
    "        try:\n",
    "            dnp.append(np.array(tuple(r_filled), dtype=np_headers))\n",
    "        except:\n",
    "            raise\n",
    "            break\n",
    "    dnp = np.array(dnp, dtype=np_headers)\n",
    "    for item in dnp:\n",
    "        alldat.append(item)\n",
    "    dat[dname] = dnp"
   ]
  },
  {
   "cell_type": "code",
   "execution_count": 174,
   "metadata": {
    "collapsed": false
   },
   "outputs": [],
   "source": [
    "alldat = np.array(alldat, dtype=np_headers)\n",
    "np.save(\"spreadsheets\", alldat)"
   ]
  },
  {
   "cell_type": "code",
   "execution_count": 132,
   "metadata": {
    "collapsed": false
   },
   "outputs": [],
   "source": [
    "# ['gov', 'health', 'labor', 'finance', 'popjobs', 'agri_mil']\n",
    "np.savez(\"data2.npz\", gov=dat['gov'], health=dat['health'], labor=dat['labor'], finance=dat['finance'], population_jobs=dat['popjobs'], agri_military=dat['agri_mil'])"
   ]
  }
 ],
 "metadata": {
  "kernelspec": {
   "display_name": "Python 3",
   "language": "python",
   "name": "python3"
  },
  "language_info": {
   "codemirror_mode": {
    "name": "ipython",
    "version": 3
   },
   "file_extension": ".py",
   "mimetype": "text/x-python",
   "name": "python",
   "nbconvert_exporter": "python",
   "pygments_lexer": "ipython3",
   "version": "3.5.1"
  }
 },
 "nbformat": 4,
 "nbformat_minor": 0
}
