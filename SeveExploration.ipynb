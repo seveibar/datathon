{
 "cells": [
  {
   "cell_type": "code",
   "execution_count": 58,
   "metadata": {
    "collapsed": true
   },
   "outputs": [],
   "source": [
    "import numpy as np\n",
    "import matplotlib.pyplot as plt"
   ]
  },
  {
   "cell_type": "code",
   "execution_count": 59,
   "metadata": {
    "collapsed": true
   },
   "outputs": [],
   "source": [
    "%matplotlib inline"
   ]
  },
  {
   "cell_type": "code",
   "execution_count": 32,
   "metadata": {
    "collapsed": false
   },
   "outputs": [],
   "source": [
    "data1_parsed = np.load(\"data1.npz\")"
   ]
  },
  {
   "cell_type": "code",
   "execution_count": 33,
   "metadata": {
    "collapsed": false
   },
   "outputs": [
    {
     "data": {
      "text/plain": [
       "['agri_military', 'labor', 'finance', 'health', 'gov', 'population_jobs']"
      ]
     },
     "execution_count": 33,
     "metadata": {},
     "output_type": "execute_result"
    }
   ],
   "source": [
    "data1_parsed.files"
   ]
  },
  {
   "cell_type": "code",
   "execution_count": 34,
   "metadata": {
    "collapsed": false
   },
   "outputs": [],
   "source": [
    "labor = data1_parsed['labor']"
   ]
  },
  {
   "cell_type": "code",
   "execution_count": 37,
   "metadata": {
    "collapsed": false
   },
   "outputs": [
    {
     "data": {
      "text/plain": [
       "{b'SL.TLF.TOTL.FE.ZS', b'SL.TLF.TOTL.IN'}"
      ]
     },
     "execution_count": 37,
     "metadata": {},
     "output_type": "execute_result"
    }
   ],
   "source": [
    "set(labor['Series Code'])"
   ]
  },
  {
   "cell_type": "code",
   "execution_count": 40,
   "metadata": {
    "collapsed": false
   },
   "outputs": [
    {
     "data": {
      "text/plain": [
       "dtype([('Series Name', 'S32'), ('Series Code', 'S32'), ('Country Name', 'S32'), ('Country Code', 'S32'), ('1991', '<f4'), ('1992', '<f4'), ('1993', '<f4'), ('1994', '<f4'), ('1995', '<f4'), ('1996', '<f4'), ('1997', '<f4'), ('1998', '<f4'), ('1999', '<f4'), ('2000', '<f4'), ('2001', '<f4'), ('2002', '<f4'), ('2003', '<f4'), ('2004', '<f4'), ('2005', '<f4'), ('2006', '<f4'), ('2007', '<f4'), ('2008', '<f4'), ('2009', '<f4'), ('2010', '<f4'), ('2011', '<f4'), ('2012', '<f4'), ('2013', '<f4'), ('2014', '<f4'), ('2015', '<f4')])"
      ]
     },
     "execution_count": 40,
     "metadata": {},
     "output_type": "execute_result"
    }
   ],
   "source": [
    "labor.dtype"
   ]
  },
  {
   "cell_type": "code",
   "execution_count": 52,
   "metadata": {
    "collapsed": true
   },
   "outputs": [],
   "source": [
    "# Let's look at percentage of female workforce\n",
    "female_wf = b'SL.TLF.TOTL.FE.ZS'\n",
    "total_wf = b'SL.TLF.TOTL.IN'"
   ]
  },
  {
   "cell_type": "code",
   "execution_count": 74,
   "metadata": {
    "collapsed": true
   },
   "outputs": [],
   "source": [
    "# Parses year data in order given a row\n",
    "def get_years(row):\n",
    "    start_year = 1991\n",
    "    end_year = 2015\n",
    "    year_d = [[n, row[str(n)][0]] for n in range(start_year, end_year+1)]\n",
    "    # remove any -1 values\n",
    "    year_d = [d for d in year_d if d[1] != -1]\n",
    "    return np.array(year_d)"
   ]
  },
  {
   "cell_type": "code",
   "execution_count": 56,
   "metadata": {
    "collapsed": false
   },
   "outputs": [],
   "source": [
    "us_wf = (labor['Series Code'] == total_wf) & (labor['Country Code'] == b\"USA\")\n",
    "us_fe_wf = (labor['Series Code'] == female_wf) & (labor['Country Code'] == b\"USA\")"
   ]
  },
  {
   "cell_type": "code",
   "execution_count": 78,
   "metadata": {
    "collapsed": false
   },
   "outputs": [
    {
     "data": {
      "text/plain": [
       "[<matplotlib.lines.Line2D at 0x7f6c9496f898>]"
      ]
     },
     "execution_count": 78,
     "metadata": {},
     "output_type": "execute_result"
    },
    {
     "data": {
      "image/png": "[encoded data removed]",
      "text/plain": [
       "<matplotlib.figure.Figure at 0x7f6c949ebfd0>"
      ]
     },
     "metadata": {},
     "output_type": "display_data"
    }
   ],
   "source": [
    "us_twf_years = get_years(labor[us_fe_wf])\n",
    "plt.plot(us_twf_years[:,0],us_twf_years[:,1])"
   ]
  },
  {
   "cell_type": "code",
   "execution_count": null,
   "metadata": {
    "collapsed": true
   },
   "outputs": [],
   "source": []
  }
 ],
 "metadata": {
  "kernelspec": {
   "display_name": "Python 3",
   "language": "python",
   "name": "python3"
  },
  "language_info": {
   "codemirror_mode": {
    "name": "ipython",
    "version": 3
   },
   "file_extension": ".py",
   "mimetype": "text/x-python",
   "name": "python",
   "nbconvert_exporter": "python",
   "pygments_lexer": "ipython3",
   "version": "3.5.1"
  }
 },
 "nbformat": 4,
 "nbformat_minor": 0
}
