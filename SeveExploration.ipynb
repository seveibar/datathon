{
 "cells": [
  {
   "cell_type": "code",
   "execution_count": 58,
   "metadata": {
    "collapsed": true
   },
   "outputs": [],
   "source": [
    "import numpy as np\n",
    "import matplotlib.pyplot as plt"
   ]
  },
  {
   "cell_type": "code",
   "execution_count": 59,
   "metadata": {
    "collapsed": true
   },
   "outputs": [],
   "source": [
    "%matplotlib inline"
   ]
  },
  {
   "cell_type": "code",
   "execution_count": 32,
   "metadata": {
    "collapsed": false
   },
   "outputs": [],
   "source": [
    "data1_parsed = np.load(\"data1.npz\")"
   ]
  },
  {
   "cell_type": "code",
   "execution_count": 33,
   "metadata": {
    "collapsed": false
   },
   "outputs": [
    {
     "data": {
      "text/plain": [
       "['agri_military', 'labor', 'finance', 'health', 'gov', 'population_jobs']"
      ]
     },
     "execution_count": 33,
     "metadata": {},
     "output_type": "execute_result"
    }
   ],
   "source": [
    "data1_parsed.files"
   ]
  },
  {
   "cell_type": "code",
   "execution_count": 84,
   "metadata": {
    "collapsed": false
   },
   "outputs": [],
   "source": [
    "labor = data1_parsed['labor']\n",
    "agri_military = data1_parsed['agri_military']\n",
    "health = data1_parsed['health']\n",
    "finance = data1_parsed['finance']\n",
    "gov = data1_parsed['gov']\n",
    "population_jobs = data1_parsed['population_jobs']"
   ]
  },
  {
   "cell_type": "code",
   "execution_count": 37,
   "metadata": {
    "collapsed": false
   },
   "outputs": [
    {
     "data": {
      "text/plain": [
       "{b'SL.TLF.TOTL.FE.ZS', b'SL.TLF.TOTL.IN'}"
      ]
     },
     "execution_count": 37,
     "metadata": {},
     "output_type": "execute_result"
    }
   ],
   "source": [
    "set(labor['Series Code'])"
   ]
  },
  {
   "cell_type": "code",
   "execution_count": 40,
   "metadata": {
    "collapsed": false
   },
   "outputs": [
    {
     "data": {
      "text/plain": [
       "dtype([('Series Name', 'S32'), ('Series Code', 'S32'), ('Country Name', 'S32'), ('Country Code', 'S32'), ('1991', '<f4'), ('1992', '<f4'), ('1993', '<f4'), ('1994', '<f4'), ('1995', '<f4'), ('1996', '<f4'), ('1997', '<f4'), ('1998', '<f4'), ('1999', '<f4'), ('2000', '<f4'), ('2001', '<f4'), ('2002', '<f4'), ('2003', '<f4'), ('2004', '<f4'), ('2005', '<f4'), ('2006', '<f4'), ('2007', '<f4'), ('2008', '<f4'), ('2009', '<f4'), ('2010', '<f4'), ('2011', '<f4'), ('2012', '<f4'), ('2013', '<f4'), ('2014', '<f4'), ('2015', '<f4')])"
      ]
     },
     "execution_count": 40,
     "metadata": {},
     "output_type": "execute_result"
    }
   ],
   "source": [
    "labor.dtype"
   ]
  },
  {
   "cell_type": "code",
   "execution_count": 52,
   "metadata": {
    "collapsed": true
   },
   "outputs": [],
   "source": [
    "# Let's look at percentage of female workforce\n",
    "female_wf = b'SL.TLF.TOTL.FE.ZS'\n",
    "total_wf = b'SL.TLF.TOTL.IN'"
   ]
  },
  {
   "cell_type": "code",
   "execution_count": 74,
   "metadata": {
    "collapsed": true
   },
   "outputs": [],
   "source": [
    "# Parses year data in order given a row\n",
    "def get_years(row):\n",
    "    start_year = 1991\n",
    "    end_year = 2015\n",
    "    year_d = [[n, row[str(n)][0]] for n in range(start_year, end_year+1)]\n",
    "    # remove any -1 values\n",
    "    year_d = [d for d in year_d if d[1] != -1]\n",
    "    return np.array(year_d)"
   ]
  },
  {
   "cell_type": "code",
   "execution_count": 56,
   "metadata": {
    "collapsed": false
   },
   "outputs": [],
   "source": [
    "us_wf = (labor['Series Code'] == total_wf) & (labor['Country Code'] == b\"USA\")\n",
    "us_fe_wf = (labor['Series Code'] == female_wf) & (labor['Country Code'] == b\"USA\")"
   ]
  },
  {
   "cell_type": "code",
   "execution_count": 79,
   "metadata": {
    "collapsed": false
   },
   "outputs": [
    {
     "data": {
      "text/plain": [
       "[<matplotlib.lines.Line2D at 0x7f6c94949940>]"
      ]
     },
     "execution_count": 79,
     "metadata": {},
     "output_type": "execute_result"
    },
    {
     "data": {
      "image/png": "[encoded data removed]",
      "text/plain": [
       "<matplotlib.figure.Figure at 0x7f6c949c5dd8>"
      ]
     },
     "metadata": {},
     "output_type": "display_data"
    }
   ],
   "source": [
    "us_twf_years = get_years(labor[us_wf])\n",
    "plt.plot(us_twf_years[:,0],us_twf_years[:,1])"
   ]
  },
  {
   "cell_type": "code",
   "execution_count": 95,
   "metadata": {
    "collapsed": false
   },
   "outputs": [],
   "source": [
    "dat = np.load(\"spreadsheets.npy\")"
   ]
  },
  {
   "cell_type": "code",
   "execution_count": 99,
   "metadata": {
    "collapsed": true
   },
   "outputs": [],
   "source": [
    "years = [str(a) for a in range(1991,2016)]"
   ]
  },
  {
   "cell_type": "code",
   "execution_count": 109,
   "metadata": {
    "collapsed": false
   },
   "outputs": [],
   "source": [
    "maxyear = 2012\n",
    "minyear = 1991\n",
    "deltay = 3\n",
    "\n",
    "# Series code we are predicting \n",
    "p_sc = b\"SL.TLF.TOTL.FE.ZS\"\n",
    "cc = b\"USA\"\n",
    "\n",
    "# Loop through all the years we know this series code < maxyear\n",
    "sc_features = []\n",
    "sc_out = []\n",
    "for yearno in range(minyear + deltay, maxyear):\n",
    "\n",
    "#     yearno = 1995\n",
    "    yearno_s = yearno - 1991\n",
    "\n",
    "    # Generate a table for this SC\n",
    "    xrow = []\n",
    "    # Loop through all other series codes excluding the current SC\n",
    "    for sc in dat[(dat[\"Series Code\"] != p_sc) & (dat['Country Code'] != cc)]:\n",
    "        # Now we input the delta to the xrow\n",
    "        xrow.append(sc[years[yearno_s - 1]] - sc[years[yearno_s - deltay - 1]])\n",
    "    xrow = np.array(xrow)\n",
    "    sc_features.append(xrow)\n",
    "    \n",
    "    p_sc_years = dat[(dat[\"Series Code\"] == p_sc) & (dat['Country Code'] == cc)][0]\n",
    "    sc_out.append(p_sc_years[years[yearno_s - 1]] - p_sc_years[years[yearno_s - deltay - 1]])\n",
    "    \n",
    "rows = np.array(rows)\n",
    "sc_out = np.array(sc_out)"
   ]
  },
  {
   "cell_type": "code",
   "execution_count": 110,
   "metadata": {
    "collapsed": false
   },
   "outputs": [
    {
     "data": {
      "text/plain": [
       "array([  4.56894684e+01,   6.54880524e-01,   6.21089935e-01,\n",
       "         6.50524139e-01,   3.28624725e-01,   2.57308960e-01,\n",
       "         2.41256714e-01,   6.00013733e-02,   1.08612061e-01,\n",
       "         8.23097229e-02,   2.90409088e-01,   2.14508057e-01,\n",
       "         1.01280212e-01,  -8.02497864e-02,   2.18696594e-02,\n",
       "         1.85352325e-01,   3.68785858e-01,   3.99261475e-01], dtype=float32)"
      ]
     },
     "execution_count": 110,
     "metadata": {},
     "output_type": "execute_result"
    }
   ],
   "source": [
    "sc_out"
   ]
  }
 ],
 "metadata": {
  "kernelspec": {
   "display_name": "Python 3",
   "language": "python",
   "name": "python3"
  },
  "language_info": {
   "codemirror_mode": {
    "name": "ipython",
    "version": 3
   },
   "file_extension": ".py",
   "mimetype": "text/x-python",
   "name": "python",
   "nbconvert_exporter": "python",
   "pygments_lexer": "ipython3",
   "version": "3.5.1"
  }
 },
 "nbformat": 4,
 "nbformat_minor": 0
}
