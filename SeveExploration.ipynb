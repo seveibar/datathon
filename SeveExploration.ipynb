{
 "cells": [
  {
   "cell_type": "code",
   "execution_count": 58,
   "metadata": {
    "collapsed": true
   },
   "outputs": [],
   "source": [
    "import numpy as np\n",
    "import matplotlib.pyplot as plt"
   ]
  },
  {
   "cell_type": "code",
   "execution_count": 59,
   "metadata": {
    "collapsed": true
   },
   "outputs": [],
   "source": [
    "%matplotlib inline"
   ]
  },
  {
   "cell_type": "code",
   "execution_count": 32,
   "metadata": {
    "collapsed": false
   },
   "outputs": [],
   "source": [
    "data1_parsed = np.load(\"data1.npz\")"
   ]
  },
  {
   "cell_type": "code",
   "execution_count": 33,
   "metadata": {
    "collapsed": false
   },
   "outputs": [
    {
     "data": {
      "text/plain": [
       "['agri_military', 'labor', 'finance', 'health', 'gov', 'population_jobs']"
      ]
     },
     "execution_count": 33,
     "metadata": {},
     "output_type": "execute_result"
    }
   ],
   "source": [
    "data1_parsed.files"
   ]
  },
  {
   "cell_type": "code",
   "execution_count": 84,
   "metadata": {
    "collapsed": false
   },
   "outputs": [],
   "source": [
    "labor = data1_parsed['labor']\n",
    "agri_military = data1_parsed['agri_military']\n",
    "health = data1_parsed['health']\n",
    "finance = data1_parsed['finance']\n",
    "gov = data1_parsed['gov']\n",
    "population_jobs = data1_parsed['population_jobs']"
   ]
  },
  {
   "cell_type": "code",
   "execution_count": 37,
   "metadata": {
    "collapsed": false
   },
   "outputs": [
    {
     "data": {
      "text/plain": [
       "{b'SL.TLF.TOTL.FE.ZS', b'SL.TLF.TOTL.IN'}"
      ]
     },
     "execution_count": 37,
     "metadata": {},
     "output_type": "execute_result"
    }
   ],
   "source": [
    "set(labor['Series Code'])"
   ]
  },
  {
   "cell_type": "code",
   "execution_count": 40,
   "metadata": {
    "collapsed": false
   },
   "outputs": [
    {
     "data": {
      "text/plain": [
       "dtype([('Series Name', 'S32'), ('Series Code', 'S32'), ('Country Name', 'S32'), ('Country Code', 'S32'), ('1991', '<f4'), ('1992', '<f4'), ('1993', '<f4'), ('1994', '<f4'), ('1995', '<f4'), ('1996', '<f4'), ('1997', '<f4'), ('1998', '<f4'), ('1999', '<f4'), ('2000', '<f4'), ('2001', '<f4'), ('2002', '<f4'), ('2003', '<f4'), ('2004', '<f4'), ('2005', '<f4'), ('2006', '<f4'), ('2007', '<f4'), ('2008', '<f4'), ('2009', '<f4'), ('2010', '<f4'), ('2011', '<f4'), ('2012', '<f4'), ('2013', '<f4'), ('2014', '<f4'), ('2015', '<f4')])"
      ]
     },
     "execution_count": 40,
     "metadata": {},
     "output_type": "execute_result"
    }
   ],
   "source": [
    "labor.dtype"
   ]
  },
  {
   "cell_type": "code",
   "execution_count": 52,
   "metadata": {
    "collapsed": true
   },
   "outputs": [],
   "source": [
    "# Let's look at percentage of female workforce\n",
    "female_wf = b'SL.TLF.TOTL.FE.ZS'\n",
    "total_wf = b'SL.TLF.TOTL.IN'"
   ]
  },
  {
   "cell_type": "code",
   "execution_count": 147,
   "metadata": {
    "collapsed": true
   },
   "outputs": [],
   "source": [
    "# Parses year data in order given a row\n",
    "def get_years(row):\n",
    "    start_year = 2005\n",
    "    end_year = 2014\n",
    "    year_d = [[n, row[str(n)][0]] for n in range(start_year, end_year+1)]\n",
    "    # remove any -1 values\n",
    "    year_d = [d for d in year_d if d[1] != -1]\n",
    "    return np.array(year_d)"
   ]
  },
  {
   "cell_type": "code",
   "execution_count": 148,
   "metadata": {
    "collapsed": false
   },
   "outputs": [],
   "source": [
    "us_wf = (labor['Series Code'] == total_wf) & (labor['Country Code'] == b\"USA\")\n",
    "us_fe_wf = (labor['Series Code'] == female_wf) & (labor['Country Code'] == b\"USA\")"
   ]
  },
  {
   "cell_type": "code",
   "execution_count": 149,
   "metadata": {
    "collapsed": false
   },
   "outputs": [
    {
     "data": {
      "text/plain": [
       "[<matplotlib.lines.Line2D at 0x7f6c94884588>]"
      ]
     },
     "execution_count": 149,
     "metadata": {},
     "output_type": "execute_result"
    },
    {
     "data": {
      "image/png": "[encoded data removed]",
      "text/plain": [
       "<matplotlib.figure.Figure at 0x7f6c9491c940>"
      ]
     },
     "metadata": {},
     "output_type": "display_data"
    }
   ],
   "source": [
    "us_twf_years = get_years(labor[us_wf])\n",
    "plt.plot(us_twf_years[:,0],us_twf_years[:,1])"
   ]
  },
  {
   "cell_type": "code",
   "execution_count": 150,
   "metadata": {
    "collapsed": false
   },
   "outputs": [],
   "source": [
    "dat = np.load(\"spreadsheets.npy\")"
   ]
  },
  {
   "cell_type": "code",
   "execution_count": 20,
   "metadata": {
    "collapsed": false
   },
   "outputs": [],
   "source": [
    "import numpy as np\n",
    "import matplotlib.pyplot as plt\n",
    "\n",
    "dat = np.load(\"spreadsheets.npy\")\n",
    "years = [str(a) for a in range(1991,2030)]\n",
    "\n",
    "maxyear = 2015\n",
    "minyear = 2006\n",
    "maxdeltay = 3\n",
    "\n",
    "# Gets the X row, this is a super long row that contains all the delta slopes\n",
    "def get_xrow(p_sc, cc, yearno):\n",
    "    yearno_s = yearno - 1991\n",
    "\n",
    "    # Generate a table for this SC\n",
    "    xrow = []\n",
    "    key = []\n",
    "    # Loop through all other series codes excluding the current SC\n",
    "    for sc in dat[(dat[\"Series Code\"] != p_sc) | (dat['Country Code'] != cc)]:\n",
    "        # Now we input the delta to the xrow\n",
    "        for deltay in range(1,maxdeltay+1):\n",
    "            xrow.append(sc[years[yearno_s - 1]] - sc[years[yearno_s - deltay - 1]])\n",
    "            key.append(np.array([\n",
    "                    sc[\"Series Code\"],\n",
    "                    sc[\"Country Code\"],\n",
    "                    years[yearno_s - 1],\n",
    "                    years[yearno_s - deltay - 1]\n",
    "                    ], dtype='S32'))\n",
    "    return np.array(xrow), np.array(key)\n",
    "\n",
    "# Same as get_xrow, but injects a spike\n",
    "def get_xrow_with_spike(p_sc=None, p_cc=None, year=None, spike_sc=None, spike_cc=None, spike_amt=None):\n",
    "    yearno_s = year - 1991\n",
    "    # Generate a table for this SC\n",
    "    xrow = []\n",
    "    key = []\n",
    "    # Loop through all other series codes excluding the current SC\n",
    "    for sc in dat[(dat[\"Series Code\"] != p_sc) | (dat['Country Code'] != p_cc)]:\n",
    "        # Now we input the delta to the xrow\n",
    "        for deltay in range(1,maxdeltay+1):\n",
    "            if sc[\"Series Code\"] == spike_sc and sc[\"Country Code\"] == spike_cc:\n",
    "                print(sc[years[yearno_s - 1]],\n",
    "                      (sc[years[yearno_s - 1]] + spike_amt) - sc[years[yearno_s - deltay - 1]],\n",
    "                      sc[years[yearno_s - 1]] + spike_amt,\n",
    "                      sc[years[yearno_s - deltay - 1]])\n",
    "                xrow.append((sc[years[yearno_s - 1]] + spike_amt) - sc[years[yearno_s - deltay - 1]])\n",
    "            else:\n",
    "                xrow.append(sc[years[yearno_s - 1]] - sc[years[yearno_s - deltay - 1]])\n",
    "            key.append(np.array([\n",
    "                    sc[\"Series Code\"],\n",
    "                    sc[\"Country Code\"],\n",
    "                    years[yearno_s - 1],\n",
    "                    years[yearno_s - deltay - 1]\n",
    "                    ], dtype='S32'))\n",
    "    return np.array(xrow), np.array(key)\n",
    "\n",
    "# Gets a single value for the y vector which is the \"solution\" matrix\n",
    "# Takes a SC/Country that is being predicted and a year to get the increase in the SC for\n",
    "def get_yval(p_sc, cc, yearno):\n",
    "    yearno_s = yearno - 1991\n",
    "    p_sc_years = dat[(dat[\"Series Code\"] == p_sc) | (dat['Country Code'] == cc)][0]\n",
    "    p_sc_inc = p_sc_years[years[yearno_s]] - p_sc_years[years[yearno_s - 1]]\n",
    "    return p_sc_inc\n",
    "    \n",
    "def get_training_matrix(p_sc=b\"SL.TLF.TOTL.FE.ZS\", cc=b\"USA\"):\n",
    "\n",
    "    # Loop through all the years we know this series code < maxyear\n",
    "    sc_features = []\n",
    "    sc_out = []\n",
    "    \n",
    "    # loop through all possible delta years\n",
    "    for yearno in range(minyear + maxdeltay, maxyear):\n",
    "\n",
    "        xrow,_ = get_xrow(p_sc, cc, yearno)\n",
    "        sc_inc = get_yval(p_sc, cc, yearno)\n",
    "\n",
    "        sc_features.append(xrow)\n",
    "        sc_out.append(sc_inc)\n",
    "        \n",
    "\n",
    "    sc_features = np.array(sc_features)\n",
    "    sc_out = np.array(sc_out)\n",
    "    return sc_features, sc_out\n",
    "\n",
    "# Get the value of a feature at a specific year\n",
    "def get_feature_value(p_sc, cc, year, idat=None):\n",
    "    if idat is None:\n",
    "        idat = dat\n",
    "    return idat[(dat[\"Series Code\"] == p_sc) & (dat['Country Code'] == cc)][0][years[year-1991]]\n",
    "\n",
    "\n",
    "\n",
    "# Adds a predicted year to the data using a list of corresponding series codes, country codes and \n",
    "# predicted values- this turns out to be a bit tricky\n",
    "# def add_predicted_year(sc,cc,p_vals):\n",
    "#     pass"
   ]
  },
  {
   "cell_type": "code",
   "execution_count": 21,
   "metadata": {
    "collapsed": false
   },
   "outputs": [
    {
     "data": {
      "text/plain": [
       "3663"
      ]
     },
     "execution_count": 21,
     "metadata": {},
     "output_type": "execute_result"
    }
   ],
   "source": [
    "open('data_matrix.py','w').write(In[-2])"
   ]
  },
  {
   "cell_type": "code",
   "execution_count": 22,
   "metadata": {
    "collapsed": false
   },
   "outputs": [
    {
     "data": {
      "text/plain": [
       "(6, 39360)"
      ]
     },
     "execution_count": 22,
     "metadata": {},
     "output_type": "execute_result"
    }
   ],
   "source": [
    "sc_features, sc_out = get_training_matrix(p_sc=b\"BX.GSR.GNFS.CD\", cc=b\"USA\")\n",
    "sc_features.shape"
   ]
  },
  {
   "cell_type": "code",
   "execution_count": 190,
   "metadata": {
    "collapsed": false
   },
   "outputs": [
    {
     "data": {
      "text/plain": [
       "(6,)"
      ]
     },
     "execution_count": 190,
     "metadata": {},
     "output_type": "execute_result"
    }
   ],
   "source": [
    "sc_out.shape"
   ]
  },
  {
   "cell_type": "code",
   "execution_count": 198,
   "metadata": {
    "collapsed": false
   },
   "outputs": [
    {
     "data": {
      "text/plain": [
       "array([ 0.09895539,  0.08040273,  0.21849203, ...,  0.        ,\n",
       "        0.        ,  0.        ], dtype=float32)"
      ]
     },
     "execution_count": 198,
     "metadata": {},
     "output_type": "execute_result"
    }
   ],
   "source": [
    "get_xrow(p_sc, cc, 2015)"
   ]
  },
  {
   "cell_type": "code",
   "execution_count": 161,
   "metadata": {
    "collapsed": false
   },
   "outputs": [
    {
     "name": "stdout",
     "output_type": "stream",
     "text": [
      "2005 1.28602e+12\n",
      "2006 1.45765e+12\n",
      "2007 1.65355e+12\n",
      "2008 1.84161e+12\n",
      "2009 1.58305e+12\n",
      "2010 1.8536e+12\n",
      "2011 2.12702e+12\n",
      "2012 2.21899e+12\n",
      "2013 2.27994e+12\n",
      "2014 2.3432e+12\n"
     ]
    }
   ],
   "source": [
    "for i in range(2005, 2015):\n",
    "    print(i, get_feature_value(b\"BX.GSR.GNFS.CD\", b\"USA\", i))"
   ]
  },
  {
   "cell_type": "code",
   "execution_count": 142,
   "metadata": {
    "collapsed": false
   },
   "outputs": [
    {
     "data": {
      "text/plain": [
       "array([], \n",
       "      dtype=[('Series Name', 'S32'), ('Series Code', 'S32'), ('Country Name', 'S32'), ('Country Code', 'S32'), ('1991', '<f4'), ('1992', '<f4'), ('1993', '<f4'), ('1994', '<f4'), ('1995', '<f4'), ('1996', '<f4'), ('1997', '<f4'), ('1998', '<f4'), ('1999', '<f4'), ('2000', '<f4'), ('2001', '<f4'), ('2002', '<f4'), ('2003', '<f4'), ('2004', '<f4'), ('2005', '<f4'), ('2006', '<f4'), ('2007', '<f4'), ('2008', '<f4'), ('2009', '<f4'), ('2010', '<f4'), ('2011', '<f4'), ('2012', '<f4'), ('2013', '<f4'), ('2014', '<f4'), ('2015', '<f4')])"
      ]
     },
     "execution_count": 142,
     "metadata": {},
     "output_type": "execute_result"
    }
   ],
   "source": [
    "dat[dat['Series Code'] == b\"BX.GSR.GNFS.CD\"]"
   ]
  },
  {
   "cell_type": "code",
   "execution_count": null,
   "metadata": {
    "collapsed": true
   },
   "outputs": [],
   "source": []
  }
 ],
 "metadata": {
  "kernelspec": {
   "display_name": "Python 3",
   "language": "python",
   "name": "python3"
  },
  "language_info": {
   "codemirror_mode": {
    "name": "ipython",
    "version": 3
   },
   "file_extension": ".py",
   "mimetype": "text/x-python",
   "name": "python",
   "nbconvert_exporter": "python",
   "pygments_lexer": "ipython3",
   "version": "3.5.1"
  }
 },
 "nbformat": 4,
 "nbformat_minor": 0
}
